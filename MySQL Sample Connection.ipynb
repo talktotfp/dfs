{
 "cells": [
  {
   "cell_type": "code",
   "execution_count": 11,
   "metadata": {
    "collapsed": false
   },
   "outputs": [
    {
     "name": "stdout",
     "output_type": "stream",
     "text": [
      "                 Name Team   Opp Pos  Mins Salary Points Value\n",
      "0      Davis, Anthony  NOP  @MIN  PF  37.0  10300   52.8  5.13\n",
      "1  Westbrook, Russell  OKC  @PHO  PG  36.0  11100   50.3  4.53\n",
      "2   Cousins, DeMarcus  SAC  @CLE   C  37.0  11100     48  4.33\n",
      "3       James, LeBron  CLE   SAC  SF  35.0  10200   46.5  4.56\n",
      "4       Durant, Kevin  OKC  @PHO  SF  36.0  10800   46.1  4.27\n"
     ]
    }
   ],
   "source": [
    "import pymysql\n",
    "import pandas as pd\n",
    "conn = pymysql.connect(host='nbastats.chp0zhljxmaa.eu-west-1.rds.amazonaws.com', port=3306, user='tpauley', passwd='Rp44906255$1', db='nbastats')\n",
    "\n",
    "cur = conn.cursor()\n",
    "query = 'SELECT * FROM nbastats.FANDUEL_DAILY_RW limit 5'\n",
    "\n",
    "df = pd.read_sql_query(query, conn)\n",
    "print(df)\n",
    "\n",
    "\n",
    "\n",
    "\n",
    "cur.close()\n",
    "conn.close()"
   ]
  },
  {
   "cell_type": "code",
   "execution_count": null,
   "metadata": {
    "collapsed": true
   },
   "outputs": [],
   "source": []
  }
 ],
 "metadata": {
  "anaconda-cloud": {},
  "kernelspec": {
   "display_name": "Python [default]",
   "language": "python",
   "name": "python3"
  },
  "language_info": {
   "codemirror_mode": {
    "name": "ipython",
    "version": 3
   },
   "file_extension": ".py",
   "mimetype": "text/x-python",
   "name": "python",
   "nbconvert_exporter": "python",
   "pygments_lexer": "ipython3",
   "version": "3.5.2"
  }
 },
 "nbformat": 4,
 "nbformat_minor": 1
}
